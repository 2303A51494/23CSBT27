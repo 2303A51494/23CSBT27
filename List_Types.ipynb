{
  "nbformat": 4,
  "nbformat_minor": 0,
  "metadata": {
    "colab": {
      "provenance": [],
      "authorship_tag": "ABX9TyMHp/g5+mYpmdC8dd8RS7oZ",
      "include_colab_link": true
    },
    "kernelspec": {
      "name": "python3",
      "display_name": "Python 3"
    },
    "language_info": {
      "name": "python"
    }
  },
  "cells": [
    {
      "cell_type": "markdown",
      "metadata": {
        "id": "view-in-github",
        "colab_type": "text"
      },
      "source": [
        "<a href=\"https://colab.research.google.com/github/2303A51494/23CSBT27/blob/main/List_Types.ipynb\" target=\"_parent\"><img src=\"https://colab.research.google.com/assets/colab-badge.svg\" alt=\"Open In Colab\"/></a>"
      ]
    },
    {
      "cell_type": "code",
      "execution_count": 3,
      "metadata": {
        "colab": {
          "base_uri": "https://localhost:8080/"
        },
        "id": "f_J-ZraZkjbx",
        "outputId": "60967932-8ef3-480e-f8fe-d1ab1da32cd2"
      },
      "outputs": [
        {
          "output_type": "stream",
          "name": "stdout",
          "text": [
            "{1, 2, 5, 6}\n",
            "<class 'list'>\n",
            "<class 'set'>\n"
          ]
        }
      ],
      "source": [
        "import numpy as np\n",
        "list={1,5,2,6}\n",
        "list1=[3,6,1,8]\n",
        "print(list)\n",
        "print(type(list1))\n",
        "print(type(list))"
      ]
    },
    {
      "cell_type": "code",
      "source": [
        "list=[\"Greeks\",\"For\",\"Greeks\"]\n",
        "list2=\"My first lab\"\n",
        "list3=4.3\n",
        "list4=2j+6\n",
        "list5='My first lab'\n",
        "print(type(list2))\n",
        "print(type(list3))\n",
        "print(type(list4))\n",
        "print(type(list5))\n",
        "print(\"\\nList Items: \")\n",
        "print(list)\n",
        "print(type(list))\n",
        "print(list[0])\n",
        "print(list[2])\n",
        "\n"
      ],
      "metadata": {
        "colab": {
          "base_uri": "https://localhost:8080/"
        },
        "id": "2DYD0QJVlAN0",
        "outputId": "33c8b050-387c-44d9-a0f2-0cd0e93cbf7e"
      },
      "execution_count": 6,
      "outputs": [
        {
          "output_type": "stream",
          "name": "stdout",
          "text": [
            "<class 'str'>\n",
            "<class 'float'>\n",
            "<class 'complex'>\n",
            "<class 'str'>\n",
            "\n",
            "List Items: \n",
            "['Greeks', 'For', 'Greeks']\n",
            "<class 'list'>\n",
            "Greeks\n",
            "Greeks\n"
          ]
        }
      ]
    }
  ]
}