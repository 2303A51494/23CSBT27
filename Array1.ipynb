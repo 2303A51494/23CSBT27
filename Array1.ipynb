{
  "nbformat": 4,
  "nbformat_minor": 0,
  "metadata": {
    "colab": {
      "provenance": [],
      "authorship_tag": "ABX9TyNpnfBkX8YgI3uHzNAz8MHm",
      "include_colab_link": true
    },
    "kernelspec": {
      "name": "python3",
      "display_name": "Python 3"
    },
    "language_info": {
      "name": "python"
    }
  },
  "cells": [
    {
      "cell_type": "markdown",
      "metadata": {
        "id": "view-in-github",
        "colab_type": "text"
      },
      "source": [
        "<a href=\"https://colab.research.google.com/github/2303A51494/23CSBT27/blob/main/Array1.ipynb\" target=\"_parent\"><img src=\"https://colab.research.google.com/assets/colab-badge.svg\" alt=\"Open In Colab\"/></a>"
      ]
    },
    {
      "cell_type": "code",
      "execution_count": null,
      "metadata": {
        "id": "3M8VT5H-v9RU"
      },
      "outputs": [],
      "source": [
        "\n"
      ]
    },
    {
      "cell_type": "markdown",
      "source": [
        "creation Array and array operation"
      ],
      "metadata": {
        "id": "5Auu--nMxTmL"
      }
    },
    {
      "cell_type": "code",
      "source": [
        "import numpy as np\n",
        "arry=np.array([2,5,3,7,3])\n",
        "print(arry)\n",
        "print(type(arry))"
      ],
      "metadata": {
        "colab": {
          "base_uri": "https://localhost:8080/"
        },
        "id": "gnoy5cnjxbsE",
        "outputId": "1c718c7c-ef82-4b0a-d260-c5cacac9b0f4"
      },
      "execution_count": 2,
      "outputs": [
        {
          "output_type": "stream",
          "name": "stdout",
          "text": [
            "[2 5 3 7 3]\n",
            "<class 'numpy.ndarray'>\n"
          ]
        }
      ]
    },
    {
      "cell_type": "code",
      "source": [
        "import numpy as np\n",
        "arry1=np.array({'apple','banana','orange'})\n",
        "print(arry1)\n",
        "print(type(arry1))"
      ],
      "metadata": {
        "colab": {
          "base_uri": "https://localhost:8080/"
        },
        "id": "Ij6rwQptydg6",
        "outputId": "64289752-2375-48c7-f857-d87a453e76cf"
      },
      "execution_count": 3,
      "outputs": [
        {
          "output_type": "stream",
          "name": "stdout",
          "text": [
            "{'apple', 'orange', 'banana'}\n",
            "<class 'numpy.ndarray'>\n"
          ]
        }
      ]
    },
    {
      "cell_type": "code",
      "source": [
        "import numpy as np\n",
        "arry=np.array([[2,5],[4,2]])\n",
        "arry1=np.array([[2,5,4,2],[4,2,1,0]])\n",
        "arry2=np.array([[2,5,4],[4,2,5],[6,7,8]])\n",
        "print(arry)\n",
        "print(arry1)\n",
        "print(arry2)\n"
      ],
      "metadata": {
        "colab": {
          "base_uri": "https://localhost:8080/"
        },
        "id": "dr-KO4cJy-Ad",
        "outputId": "81ab6b10-4332-4e27-ed1a-d20019f0fc99"
      },
      "execution_count": 5,
      "outputs": [
        {
          "output_type": "stream",
          "name": "stdout",
          "text": [
            "[[2 5]\n",
            " [4 2]]\n",
            "[[2 5 4 2]\n",
            " [4 2 1 0]]\n",
            "[[2 5 4]\n",
            " [4 2 5]\n",
            " [6 7 8]]\n"
          ]
        }
      ]
    },
    {
      "cell_type": "code",
      "source": [
        "import numpy as np\n",
        "arry1=np.array([1,3,4,5,6])\n",
        "arry2=np.array([2,6,3,4,3])\n",
        "print(arry)\n",
        "print(np.add(arry1,arry2))\n",
        "print(np.multiply(arry1,arry2))\n",
        "print(np.subtract(arry1,arry2))\n",
        "print(np.divide(arry1,arry2))\n",
        "print(type(arry))"
      ],
      "metadata": {
        "colab": {
          "base_uri": "https://localhost:8080/"
        },
        "id": "R2knE3Pb0E5F",
        "outputId": "9a545279-fe8c-4567-cb3e-f78a510a4e13"
      },
      "execution_count": 7,
      "outputs": [
        {
          "output_type": "stream",
          "name": "stdout",
          "text": [
            "[[2 5]\n",
            " [4 2]]\n",
            "[3 9 7 9 9]\n",
            "[ 2 18 12 20 18]\n",
            "[-1 -3  1  1  3]\n",
            "[0.5        0.5        1.33333333 1.25       2.        ]\n",
            "<class 'numpy.ndarray'>\n"
          ]
        }
      ]
    },
    {
      "cell_type": "code",
      "source": [
        "import numpy as np\n",
        "arry1=np.array({'apple','banana','orange'})\n",
        "print(arry1)\n",
        "print(type(arry1))\n"
      ],
      "metadata": {
        "colab": {
          "base_uri": "https://localhost:8080/"
        },
        "id": "uFFareXC1SJb",
        "outputId": "aad8807c-4e84-4fd6-89bd-ce053307f1b8"
      },
      "execution_count": 8,
      "outputs": [
        {
          "output_type": "stream",
          "name": "stdout",
          "text": [
            "{'apple', 'orange', 'banana'}\n",
            "<class 'numpy.ndarray'>\n"
          ]
        }
      ]
    }
  ]
}